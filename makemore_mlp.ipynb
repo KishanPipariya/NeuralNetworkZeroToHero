{
 "cells": [
  {
   "cell_type": "code",
   "execution_count": 1,
   "id": "710cc864-704a-4e74-bde9-0ac11977d984",
   "metadata": {},
   "outputs": [],
   "source": [
    "import torch\n",
    "import torch.nn.functional as F\n",
    "import matplotlib.pyplot as plt\n",
    "%matplotlib inline"
   ]
  },
  {
   "cell_type": "code",
   "execution_count": 2,
   "id": "bed533b1-21e7-437e-a962-1944a912b723",
   "metadata": {},
   "outputs": [
    {
     "data": {
      "text/plain": [
       "['emma', 'olivia', 'ava', 'isabella', 'sophia']"
      ]
     },
     "execution_count": 2,
     "metadata": {},
     "output_type": "execute_result"
    }
   ],
   "source": [
    "words = open('names.txt', 'r').read().splitlines()\n",
    "words[:5]"
   ]
  },
  {
   "cell_type": "code",
   "execution_count": 3,
   "id": "1b6292dd-0eea-4b69-8ff0-f57cbd05d513",
   "metadata": {},
   "outputs": [
    {
     "data": {
      "text/plain": [
       "{1: 'a',\n",
       " 2: 'b',\n",
       " 3: 'c',\n",
       " 4: 'd',\n",
       " 5: 'e',\n",
       " 6: 'f',\n",
       " 7: 'g',\n",
       " 8: 'h',\n",
       " 9: 'i',\n",
       " 10: 'j',\n",
       " 11: 'k',\n",
       " 12: 'l',\n",
       " 13: 'm',\n",
       " 14: 'n',\n",
       " 15: 'o',\n",
       " 16: 'p',\n",
       " 17: 'q',\n",
       " 18: 'r',\n",
       " 19: 's',\n",
       " 20: 't',\n",
       " 21: 'u',\n",
       " 22: 'v',\n",
       " 23: 'w',\n",
       " 24: 'x',\n",
       " 25: 'y',\n",
       " 26: 'z',\n",
       " 0: '.'}"
      ]
     },
     "execution_count": 3,
     "metadata": {},
     "output_type": "execute_result"
    }
   ],
   "source": [
    "chars = sorted(list(set(''.join(words))))\n",
    "stoi = {s:i+1 for i, s in enumerate(chars)}\n",
    "stoi['.'] = 0\n",
    "itos = {i:s for s, i in stoi.items()}\n",
    "itos"
   ]
  },
  {
   "cell_type": "code",
   "execution_count": 4,
   "id": "3f679eb7-35db-401f-8e4d-828f1f9d7518",
   "metadata": {},
   "outputs": [
    {
     "name": "stdout",
     "output_type": "stream",
     "text": [
      "emma\n",
      "... ---> e\n",
      "..e ---> m\n",
      ".em ---> m\n",
      "emm ---> a\n",
      "mma ---> .\n",
      "olivia\n",
      "... ---> o\n",
      "..o ---> l\n",
      ".ol ---> i\n",
      "oli ---> v\n",
      "liv ---> i\n",
      "ivi ---> a\n",
      "via ---> .\n",
      "ava\n",
      "... ---> a\n",
      "..a ---> v\n",
      ".av ---> a\n",
      "ava ---> .\n",
      "isabella\n",
      "... ---> i\n",
      "..i ---> s\n",
      ".is ---> a\n",
      "isa ---> b\n",
      "sab ---> e\n",
      "abe ---> l\n",
      "bel ---> l\n",
      "ell ---> a\n",
      "lla ---> .\n",
      "sophia\n",
      "... ---> s\n",
      "..s ---> o\n",
      ".so ---> p\n",
      "sop ---> h\n",
      "oph ---> i\n",
      "phi ---> a\n",
      "hia ---> .\n"
     ]
    }
   ],
   "source": [
    "block_size = 3\n",
    "X, Y = [], []\n",
    "\n",
    "for w in words[:5]:\n",
    "    print(w)\n",
    "    context = [0]*block_size\n",
    "    for ch in w +'.':\n",
    "        ix = stoi[ch]\n",
    "        X.append(context)\n",
    "        Y.append(ix)\n",
    "        print(''.join(itos[i] for i in context), '--->', itos[ix])\n",
    "        context = context[1:] + [ix]\n",
    "X = torch.tensor(X)\n",
    "Y = torch.tensor(Y)"
   ]
  },
  {
   "cell_type": "code",
   "execution_count": 5,
   "id": "8c653ec0-6212-43a4-a14e-a704f1d13fe2",
   "metadata": {},
   "outputs": [],
   "source": [
    "C = torch.randn((27, 2))"
   ]
  },
  {
   "cell_type": "code",
   "execution_count": 6,
   "id": "c313daab-19bd-49ab-844e-28e75866f4ee",
   "metadata": {},
   "outputs": [],
   "source": [
    "emb = C[X]"
   ]
  },
  {
   "cell_type": "code",
   "execution_count": 12,
   "id": "8927751c-e8d2-43bf-b4b9-e6c475a4ced2",
   "metadata": {},
   "outputs": [],
   "source": [
    "W1 = torch.randn(6, 100)\n",
    "b1 = torch.randn(100)"
   ]
  },
  {
   "cell_type": "code",
   "execution_count": 13,
   "id": "2937e197-f45a-46be-b5a9-56b8f7a0812d",
   "metadata": {},
   "outputs": [
    {
     "data": {
      "text/plain": [
       "tensor([[ 0.8850, -0.5780],\n",
       "        [ 0.8850, -0.5780],\n",
       "        [ 0.8850, -0.5780],\n",
       "        [ 0.8788,  0.5746],\n",
       "        [-0.2390, -0.3881],\n",
       "        [ 0.8850, -0.5780],\n",
       "        [ 0.8850, -0.5780],\n",
       "        [ 0.8850, -0.5780],\n",
       "        [ 1.0638,  0.6828],\n",
       "        [ 0.5621, -2.2577],\n",
       "        [-0.6900, -0.6699],\n",
       "        [-0.1402,  0.8824],\n",
       "        [ 0.8850, -0.5780],\n",
       "        [ 0.8850, -0.5780],\n",
       "        [ 0.8850, -0.5780],\n",
       "        [-1.6553,  0.8988],\n",
       "        [ 0.8850, -0.5780],\n",
       "        [ 0.8850, -0.5780],\n",
       "        [ 0.8850, -0.5780],\n",
       "        [-0.6900, -0.6699],\n",
       "        [-1.4073, -0.4447],\n",
       "        [-1.6553,  0.8988],\n",
       "        [ 0.1233,  0.4318],\n",
       "        [ 0.8788,  0.5746],\n",
       "        [ 0.5621, -2.2577],\n",
       "        [ 0.8850, -0.5780],\n",
       "        [ 0.8850, -0.5780],\n",
       "        [ 0.8850, -0.5780],\n",
       "        [-1.4073, -0.4447],\n",
       "        [ 1.0638,  0.6828],\n",
       "        [ 0.4166, -1.4690],\n",
       "        [-0.8465,  0.8111]])"
      ]
     },
     "execution_count": 13,
     "metadata": {},
     "output_type": "execute_result"
    }
   ],
   "source": [
    " emb[:, 0, :]  "
   ]
  },
  {
   "cell_type": "code",
   "execution_count": 8,
   "id": "bb682ca2-804f-465d-8881-f550c4329d83",
   "metadata": {},
   "outputs": [
    {
     "data": {
      "text/plain": [
       "torch.Size([32, 6])"
      ]
     },
     "execution_count": 8,
     "metadata": {},
     "output_type": "execute_result"
    }
   ],
   "source": [
    "#torch.cat([emb[:,0, :], emb[:,0, :], emb[:,0, :]], 1).shape"
   ]
  },
  {
   "cell_type": "code",
   "execution_count": 9,
   "id": "ee3e2a71-45e3-4974-b05e-e060fd44c900",
   "metadata": {},
   "outputs": [
    {
     "data": {
      "text/plain": [
       "torch.Size([32, 6])"
      ]
     },
     "execution_count": 9,
     "metadata": {},
     "output_type": "execute_result"
    }
   ],
   "source": [
    "#torch.cat(torch.unbind(emb, 1), 1).shape"
   ]
  },
  {
   "cell_type": "code",
   "execution_count": 10,
   "id": "0370a1ce-8c15-4746-bb46-abaf625241cc",
   "metadata": {},
   "outputs": [
    {
     "data": {
      "text/plain": [
       "tensor([[ 0.8850, -0.5780,  0.8850, -0.5780,  0.8850, -0.5780],\n",
       "        [ 0.8850, -0.5780,  0.8850, -0.5780,  0.8788,  0.5746],\n",
       "        [ 0.8850, -0.5780,  0.8788,  0.5746, -0.2390, -0.3881],\n",
       "        [ 0.8788,  0.5746, -0.2390, -0.3881, -0.2390, -0.3881],\n",
       "        [-0.2390, -0.3881, -0.2390, -0.3881, -1.6553,  0.8988],\n",
       "        [ 0.8850, -0.5780,  0.8850, -0.5780,  0.8850, -0.5780],\n",
       "        [ 0.8850, -0.5780,  0.8850, -0.5780,  1.0638,  0.6828],\n",
       "        [ 0.8850, -0.5780,  1.0638,  0.6828,  0.5621, -2.2577],\n",
       "        [ 1.0638,  0.6828,  0.5621, -2.2577, -0.6900, -0.6699],\n",
       "        [ 0.5621, -2.2577, -0.6900, -0.6699, -0.1402,  0.8824],\n",
       "        [-0.6900, -0.6699, -0.1402,  0.8824, -0.6900, -0.6699],\n",
       "        [-0.1402,  0.8824, -0.6900, -0.6699, -1.6553,  0.8988],\n",
       "        [ 0.8850, -0.5780,  0.8850, -0.5780,  0.8850, -0.5780],\n",
       "        [ 0.8850, -0.5780,  0.8850, -0.5780, -1.6553,  0.8988],\n",
       "        [ 0.8850, -0.5780, -1.6553,  0.8988, -0.1402,  0.8824],\n",
       "        [-1.6553,  0.8988, -0.1402,  0.8824, -1.6553,  0.8988],\n",
       "        [ 0.8850, -0.5780,  0.8850, -0.5780,  0.8850, -0.5780],\n",
       "        [ 0.8850, -0.5780,  0.8850, -0.5780, -0.6900, -0.6699],\n",
       "        [ 0.8850, -0.5780, -0.6900, -0.6699, -1.4073, -0.4447],\n",
       "        [-0.6900, -0.6699, -1.4073, -0.4447, -1.6553,  0.8988],\n",
       "        [-1.4073, -0.4447, -1.6553,  0.8988,  0.1233,  0.4318],\n",
       "        [-1.6553,  0.8988,  0.1233,  0.4318,  0.8788,  0.5746],\n",
       "        [ 0.1233,  0.4318,  0.8788,  0.5746,  0.5621, -2.2577],\n",
       "        [ 0.8788,  0.5746,  0.5621, -2.2577,  0.5621, -2.2577],\n",
       "        [ 0.5621, -2.2577,  0.5621, -2.2577, -1.6553,  0.8988],\n",
       "        [ 0.8850, -0.5780,  0.8850, -0.5780,  0.8850, -0.5780],\n",
       "        [ 0.8850, -0.5780,  0.8850, -0.5780, -1.4073, -0.4447],\n",
       "        [ 0.8850, -0.5780, -1.4073, -0.4447,  1.0638,  0.6828],\n",
       "        [-1.4073, -0.4447,  1.0638,  0.6828,  0.4166, -1.4690],\n",
       "        [ 1.0638,  0.6828,  0.4166, -1.4690, -0.8465,  0.8111],\n",
       "        [ 0.4166, -1.4690, -0.8465,  0.8111, -0.6900, -0.6699],\n",
       "        [-0.8465,  0.8111, -0.6900, -0.6699, -1.6553,  0.8988]])"
      ]
     },
     "execution_count": 10,
     "metadata": {},
     "output_type": "execute_result"
    }
   ],
   "source": [
    "emb.view(32, 6)"
   ]
  },
  {
   "cell_type": "code",
   "execution_count": 16,
   "id": "dbf7fc4d-2c51-4346-aabb-bc50d95cdcd2",
   "metadata": {},
   "outputs": [],
   "source": [
    "h = torch.tanh(emb.view(-1, 6)@W1 + b1)"
   ]
  },
  {
   "cell_type": "code",
   "execution_count": 17,
   "id": "668d3a3a-0878-4990-af8a-7f15237ddceb",
   "metadata": {},
   "outputs": [
    {
     "data": {
      "text/plain": [
       "torch.Size([32, 100])"
      ]
     },
     "execution_count": 17,
     "metadata": {},
     "output_type": "execute_result"
    }
   ],
   "source": [
    "h.shape"
   ]
  },
  {
   "cell_type": "code",
   "execution_count": 18,
   "id": "a17ed86b-1c7c-4f23-a5fc-93510d53c9c8",
   "metadata": {},
   "outputs": [],
   "source": [
    "W2 =torch.randn((100, 27))\n",
    "b2 = torch.randn(27)"
   ]
  },
  {
   "cell_type": "code",
   "execution_count": 19,
   "id": "1af2430e-bb21-4972-b355-bdfcd1320349",
   "metadata": {},
   "outputs": [],
   "source": [
    "logits = h @ W2 + b2"
   ]
  },
  {
   "cell_type": "code",
   "execution_count": 20,
   "id": "08e1f99b-0bda-459b-8e64-35a22834cbe0",
   "metadata": {},
   "outputs": [
    {
     "data": {
      "text/plain": [
       "torch.Size([32, 27])"
      ]
     },
     "execution_count": 20,
     "metadata": {},
     "output_type": "execute_result"
    }
   ],
   "source": [
    "logits.shape"
   ]
  },
  {
   "cell_type": "code",
   "execution_count": 21,
   "id": "5721e521-5230-4057-bc21-756d084031af",
   "metadata": {},
   "outputs": [],
   "source": [
    "counts = logits.exp()"
   ]
  },
  {
   "cell_type": "code",
   "execution_count": 22,
   "id": "dd4dd1ba-1793-40d8-b6f1-58f4c4fbad7c",
   "metadata": {},
   "outputs": [],
   "source": [
    "probs = counts/counts.sum(1, keepdim=True)"
   ]
  },
  {
   "cell_type": "code",
   "execution_count": 23,
   "id": "d5ad633b-1c02-4103-be91-138546e946e6",
   "metadata": {},
   "outputs": [
    {
     "data": {
      "text/plain": [
       "torch.Size([32, 27])"
      ]
     },
     "execution_count": 23,
     "metadata": {},
     "output_type": "execute_result"
    }
   ],
   "source": [
    "probs.shape"
   ]
  },
  {
   "cell_type": "code",
   "execution_count": 24,
   "id": "45f82d08-5b11-40d0-8355-f5a7b186aec0",
   "metadata": {},
   "outputs": [
    {
     "data": {
      "text/plain": [
       "tensor(1.0000)"
      ]
     },
     "execution_count": 24,
     "metadata": {},
     "output_type": "execute_result"
    }
   ],
   "source": [
    "probs[0].sum()"
   ]
  },
  {
   "cell_type": "code",
   "execution_count": 28,
   "id": "d7c42a42-a9af-4796-8f71-74a71dfacca3",
   "metadata": {},
   "outputs": [
    {
     "data": {
      "text/plain": [
       "tensor(14.9705)"
      ]
     },
     "execution_count": 28,
     "metadata": {},
     "output_type": "execute_result"
    }
   ],
   "source": [
    "loss = -probs[torch.arange(32), Y].log().mean()\n",
    "loss"
   ]
  },
  {
   "cell_type": "code",
   "execution_count": 25,
   "id": "dd2d86f8-f065-4267-bd5c-39cbffe257fc",
   "metadata": {},
   "outputs": [
    {
     "data": {
      "text/plain": [
       "tensor([ 0,  1,  2,  3,  4,  5,  6,  7,  8,  9, 10, 11, 12, 13, 14, 15, 16, 17,\n",
       "        18, 19, 20, 21, 22, 23, 24, 25, 26, 27, 28, 29, 30, 31])"
      ]
     },
     "execution_count": 25,
     "metadata": {},
     "output_type": "execute_result"
    }
   ],
   "source": [
    "torch.arange(32)"
   ]
  },
  {
   "cell_type": "code",
   "execution_count": null,
   "id": "05ab2691-e3b7-4a1c-a2fc-43347c038edc",
   "metadata": {},
   "outputs": [],
   "source": []
  }
 ],
 "metadata": {
  "kernelspec": {
   "display_name": "Python 3 (ipykernel)",
   "language": "python",
   "name": "python3"
  },
  "language_info": {
   "codemirror_mode": {
    "name": "ipython",
    "version": 3
   },
   "file_extension": ".py",
   "mimetype": "text/x-python",
   "name": "python",
   "nbconvert_exporter": "python",
   "pygments_lexer": "ipython3",
   "version": "3.10.8"
  }
 },
 "nbformat": 4,
 "nbformat_minor": 5
}
