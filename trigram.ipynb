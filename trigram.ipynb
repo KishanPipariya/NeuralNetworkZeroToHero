{
 "cells": [
  {
   "cell_type": "code",
   "execution_count": 1,
   "id": "a460c511-c3df-44c9-8490-7c880824ede2",
   "metadata": {},
   "outputs": [],
   "source": [
    "import torch\n"
   ]
  },
  {
   "cell_type": "code",
   "execution_count": 2,
   "id": "b6ac4866-5504-4441-a855-16a041245069",
   "metadata": {},
   "outputs": [],
   "source": [
    "words = open('names.txt', 'r').read().splitlines()"
   ]
  },
  {
   "cell_type": "code",
   "execution_count": 3,
   "id": "80646233-9683-43c3-96ba-6edca001ea1b",
   "metadata": {},
   "outputs": [
    {
     "data": {
      "text/plain": [
       "['emma',\n",
       " 'olivia',\n",
       " 'ava',\n",
       " 'isabella',\n",
       " 'sophia',\n",
       " 'charlotte',\n",
       " 'mia',\n",
       " 'amelia',\n",
       " 'harper',\n",
       " 'evelyn',\n",
       " 'abigail',\n",
       " 'emily',\n",
       " 'elizabeth',\n",
       " 'mila',\n",
       " 'ella',\n",
       " 'avery',\n",
       " 'sofia',\n",
       " 'camila',\n",
       " 'aria',\n",
       " 'scarlett',\n",
       " 'victoria',\n",
       " 'madison',\n",
       " 'luna']"
      ]
     },
     "execution_count": 3,
     "metadata": {},
     "output_type": "execute_result"
    }
   ],
   "source": [
    "words[:23]"
   ]
  },
  {
   "cell_type": "code",
   "execution_count": 4,
   "id": "ed3dd2d7-f87f-455c-b334-1213b7a3e80f",
   "metadata": {},
   "outputs": [
    {
     "data": {
      "text/plain": [
       "tensor([[[0, 0, 0,  ..., 0, 0, 0],\n",
       "         [0, 0, 0,  ..., 0, 0, 0],\n",
       "         [0, 0, 0,  ..., 0, 0, 0],\n",
       "         ...,\n",
       "         [0, 0, 0,  ..., 0, 0, 0],\n",
       "         [0, 0, 0,  ..., 0, 0, 0],\n",
       "         [0, 0, 0,  ..., 0, 0, 0]],\n",
       "\n",
       "        [[0, 0, 0,  ..., 0, 0, 0],\n",
       "         [0, 0, 0,  ..., 0, 0, 0],\n",
       "         [0, 0, 0,  ..., 0, 0, 0],\n",
       "         ...,\n",
       "         [0, 0, 0,  ..., 0, 0, 0],\n",
       "         [0, 0, 0,  ..., 0, 0, 0],\n",
       "         [0, 0, 0,  ..., 0, 0, 0]],\n",
       "\n",
       "        [[0, 0, 0,  ..., 0, 0, 0],\n",
       "         [0, 0, 0,  ..., 0, 0, 0],\n",
       "         [0, 0, 0,  ..., 0, 0, 0],\n",
       "         ...,\n",
       "         [0, 0, 0,  ..., 0, 0, 0],\n",
       "         [0, 0, 0,  ..., 0, 0, 0],\n",
       "         [0, 0, 0,  ..., 0, 0, 0]],\n",
       "\n",
       "        ...,\n",
       "\n",
       "        [[0, 0, 0,  ..., 0, 0, 0],\n",
       "         [0, 0, 0,  ..., 0, 0, 0],\n",
       "         [0, 0, 0,  ..., 0, 0, 0],\n",
       "         ...,\n",
       "         [0, 0, 0,  ..., 0, 0, 0],\n",
       "         [0, 0, 0,  ..., 0, 0, 0],\n",
       "         [0, 0, 0,  ..., 0, 0, 0]],\n",
       "\n",
       "        [[0, 0, 0,  ..., 0, 0, 0],\n",
       "         [0, 0, 0,  ..., 0, 0, 0],\n",
       "         [0, 0, 0,  ..., 0, 0, 0],\n",
       "         ...,\n",
       "         [0, 0, 0,  ..., 0, 0, 0],\n",
       "         [0, 0, 0,  ..., 0, 0, 0],\n",
       "         [0, 0, 0,  ..., 0, 0, 0]],\n",
       "\n",
       "        [[0, 0, 0,  ..., 0, 0, 0],\n",
       "         [0, 0, 0,  ..., 0, 0, 0],\n",
       "         [0, 0, 0,  ..., 0, 0, 0],\n",
       "         ...,\n",
       "         [0, 0, 0,  ..., 0, 0, 0],\n",
       "         [0, 0, 0,  ..., 0, 0, 0],\n",
       "         [0, 0, 0,  ..., 0, 0, 0]]], dtype=torch.int32)"
      ]
     },
     "execution_count": 4,
     "metadata": {},
     "output_type": "execute_result"
    }
   ],
   "source": [
    "N = torch.zeros((27, 27, 27), dtype=torch.int32)\n",
    "N"
   ]
  },
  {
   "cell_type": "code",
   "execution_count": 5,
   "id": "37c931b3-bc43-4c0e-978e-7d80054195bd",
   "metadata": {},
   "outputs": [],
   "source": [
    "chars = sorted(list(set(''.join(words))))\n",
    "stoi = {s:i+1 for i,s in enumerate(chars)}\n",
    "stoi['.'] = 0\n",
    "itos = {i:s for s, i in stoi.items()}"
   ]
  },
  {
   "cell_type": "code",
   "execution_count": 6,
   "id": "5d23279e-4052-45a4-b0ac-ffc4095e0254",
   "metadata": {},
   "outputs": [],
   "source": [
    "for w in words:\n",
    "    chs = ['.'] + list(w) + ['.']\n",
    "    for ch1, ch2, ch3 in zip(chs, chs[1:], chs[2:]):\n",
    "        ix1 = stoi[ch1]\n",
    "        ix2 = stoi[ch2]\n",
    "        ix3 = stoi[ch3]\n",
    "        N[ix1, ix2, ix3] += 1\n",
    "        "
   ]
  },
  {
   "cell_type": "code",
   "execution_count": 7,
   "id": "6eee6770-5dd5-414a-be3f-de6b22a9fa9d",
   "metadata": {},
   "outputs": [
    {
     "name": "stdout",
     "output_type": "stream",
     "text": [
      "tensor([[[  0,   0,   0,  ...,   0,   0,   0],\n",
      "         [  0, 207, 190,  ...,  27, 173, 152],\n",
      "         [  0, 169,   0,  ...,   0,   4,   0],\n",
      "         ...,\n",
      "         [  0,  57,   0,  ...,   1,  17,  11],\n",
      "         [  0, 246,   0,  ...,   0,   0,   2],\n",
      "         [  0, 456,   0,  ...,   0,  91,   1]],\n",
      "\n",
      "        [[  0,   0,   0,  ...,   0,   0,   0],\n",
      "         [ 40,   0,   5,  ...,   0,  20,  11],\n",
      "         [ 36,  28,  20,  ...,   0,  12,   0],\n",
      "         ...,\n",
      "         [ 11,   5,   0,  ...,  17,   6,   3],\n",
      "         [163, 389,  13,  ...,   0,  16,  40],\n",
      "         [ 38, 123,   0,  ...,   0,  12,  22]],\n",
      "\n",
      "        [[  0,   0,   0,  ...,   0,   0,   0],\n",
      "         [ 46,   5,   5,  ...,   4,  31,   4],\n",
      "         [  1,   8,   0,  ...,   0,   9,   0],\n",
      "         ...,\n",
      "         [  0,   0,   0,  ...,   0,   0,   0],\n",
      "         [ 55,   4,   1,  ...,   0,   0,   0],\n",
      "         [  0,   0,   0,  ...,   0,   0,   0]],\n",
      "\n",
      "        ...,\n",
      "\n",
      "        [[  0,   0,   0,  ...,   0,   0,   0],\n",
      "         [ 10,   0,   2,  ...,   0,  10,   0],\n",
      "         [  0,   0,   0,  ...,   0,   1,   0],\n",
      "         ...,\n",
      "         [ 18,   3,   0,  ...,   0,   1,   0],\n",
      "         [  5,   4,   0,  ...,   0,   0,   0],\n",
      "         [  0,  16,   0,  ...,   0,   0,   0]],\n",
      "\n",
      "        [[  0,   0,   0,  ...,   0,   0,   0],\n",
      "         [716,  46,  10,  ...,   3,   6,  21],\n",
      "         [  2,   2,   0,  ...,   0,   0,   0],\n",
      "         ...,\n",
      "         [ 23,   1,   0,  ...,   1,   0,   0],\n",
      "         [  1,  18,   0,  ...,   0,   0,   0],\n",
      "         [  2,  27,   0,  ...,   1,   0,   0]],\n",
      "\n",
      "        [[  0,   0,   0,  ...,   0,   0,   0],\n",
      "         [ 98,  14,  40,  ...,   3,  97,   3],\n",
      "         [  0,   0,   0,  ...,   0,   0,   0],\n",
      "         ...,\n",
      "         [  1,   0,   0,  ...,   0,   0,   0],\n",
      "         [ 34,  27,   0,  ...,   0,   0,   1],\n",
      "         [  4,  13,   0,  ...,   0,   7,   0]]], dtype=torch.int32)\n"
     ]
    }
   ],
   "source": [
    "print(N)\n"
   ]
  },
  {
   "cell_type": "code",
   "execution_count": 8,
   "id": "1c6226dd-1c0c-45af-ac65-8ef7967a8f28",
   "metadata": {},
   "outputs": [],
   "source": [
    "P = (N+1).float()\n",
    "P /= P.sum(-1, keepdim=True)#-1 leaves choice upto pytorch"
   ]
  },
  {
   "cell_type": "code",
   "execution_count": 9,
   "id": "46b68ead-e3d4-470d-9944-f45f173ba9f4",
   "metadata": {},
   "outputs": [
    {
     "data": {
      "text/plain": [
       "tensor([0.0370, 0.0370, 0.0370, 0.0370, 0.0370, 0.0370, 0.0370, 0.0370, 0.0370,\n",
       "        0.0370, 0.0370, 0.0370, 0.0370, 0.0370, 0.0370, 0.0370, 0.0370, 0.0370,\n",
       "        0.0370, 0.0370, 0.0370, 0.0370, 0.0370, 0.0370, 0.0370, 0.0370, 0.0370])"
      ]
     },
     "execution_count": 9,
     "metadata": {},
     "output_type": "execute_result"
    }
   ],
   "source": [
    "P[0, 0]"
   ]
  },
  {
   "cell_type": "code",
   "execution_count": 10,
   "id": "53f18842-54ca-4c19-813f-4f25c171ee68",
   "metadata": {},
   "outputs": [],
   "source": [
    "itos_custom={}\n",
    "for i in range(27):\n",
    "    for j in range(27):\n",
    "        itos_custom[27*i + j] = itos[i] + itos[j]"
   ]
  },
  {
   "cell_type": "code",
   "execution_count": 11,
   "id": "4635179a-e16d-40ff-a8e1-30e10ac31b5b",
   "metadata": {},
   "outputs": [
    {
     "name": "stdout",
     "output_type": "stream",
     "text": [
      "quia.\n",
      "yu.\n",
      "quinslyntien.\n",
      "nolliahi.\n",
      "ha.\n",
      "quetony.\n",
      "uri.\n",
      "tackareibaidredelingh.\n",
      "willah.\n",
      "zulm.\n",
      "ilay.\n",
      "cameylainacelonikaireil.\n",
      "caal.\n",
      "bosendecatrutandennimsaby.\n",
      "evarlii.\n",
      "partyreyona.\n",
      "fionaedwooreekoberseberryslot.\n",
      "vine.\n",
      "cayah.\n",
      "oseh.\n"
     ]
    }
   ],
   "source": [
    "g = torch.Generator().manual_seed(2147483647)\n",
    "for i in range(20):\n",
    "    out =[]\n",
    "    ix1 = 0\n",
    "    ix2 = 0\n",
    "    while True:\n",
    "        p = P[ix1, ix2]\n",
    "        ix1 = ix2\n",
    "        ix2 = torch.multinomial(p, num_samples=1, replacement=True, generator=g).item()\n",
    "        out.append(itos[ix2])\n",
    "        if ix2==0:\n",
    "            break\n",
    "    print(''.join(out))"
   ]
  },
  {
   "cell_type": "code",
   "execution_count": 14,
   "id": "9c320a69-8029-4e8c-a0b5-928a06f8ee01",
   "metadata": {},
   "outputs": [],
   "source": [
    "P = torch.ones((27, 27, 27))\n",
    "P /= P.sum(-1, keepdim=True)"
   ]
  },
  {
   "cell_type": "code",
   "execution_count": 15,
   "id": "a986d18b-0801-4fe9-932f-1762d46a2962",
   "metadata": {},
   "outputs": [
    {
     "name": "stdout",
     "output_type": "stream",
     "text": [
      "log_likelihood=tensor(-645870.6250)\n",
      "nll=tensor(645870.6250)\n",
      "3.2933595180511475\n"
     ]
    }
   ],
   "source": [
    "log_likelihood = 0.0\n",
    "n=0\n",
    "for w in words:\n",
    "    chs = ['.'] + list(w) + ['.']\n",
    "    for ch1, ch2, ch3 in zip(chs, chs[1:], chs[2:]):\n",
    "        ix1 = stoi[ch1]\n",
    "        ix2 = stoi[ch2]\n",
    "        ix3 = stoi[ch3]\n",
    "        prob = P[ix1, ix2, ix3]\n",
    "        logprob = torch.log(prob)\n",
    "        log_likelihood += logprob\n",
    "        n += 1\n",
    "print(f'{log_likelihood=}')\n",
    "nll = -log_likelihood\n",
    "print(f'{nll=}')\n",
    "print(f'{nll/n}')"
   ]
  },
  {
   "cell_type": "code",
   "execution_count": null,
   "id": "c39a0414-9f33-45bc-a236-abbb6d9f05d6",
   "metadata": {},
   "outputs": [],
   "source": []
  }
 ],
 "metadata": {
  "kernelspec": {
   "display_name": "Python 3 (ipykernel)",
   "language": "python",
   "name": "python3"
  },
  "language_info": {
   "codemirror_mode": {
    "name": "ipython",
    "version": 3
   },
   "file_extension": ".py",
   "mimetype": "text/x-python",
   "name": "python",
   "nbconvert_exporter": "python",
   "pygments_lexer": "ipython3",
   "version": "3.10.8"
  }
 },
 "nbformat": 4,
 "nbformat_minor": 5
}
