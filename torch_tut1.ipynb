{
 "cells": [
  {
   "cell_type": "code",
   "execution_count": 1,
   "id": "1fa1af9a-a3d4-4d1a-831b-caa6003f51b6",
   "metadata": {},
   "outputs": [],
   "source": [
    "import torch"
   ]
  },
  {
   "cell_type": "code",
   "execution_count": 2,
   "id": "62cd43d1-0d6a-4779-836b-faa262927b27",
   "metadata": {},
   "outputs": [
    {
     "name": "stdout",
     "output_type": "stream",
     "text": [
      "torch.int64\n",
      "torch.Size([3])\n",
      "tensor(1) tensor(2) tensor(3)\n",
      "tensor([5, 2, 3])\n",
      "torch.Size([2, 3])\n"
     ]
    }
   ],
   "source": [
    "a = torch.tensor([1, 2, 3])\n",
    "print(a.dtype)\n",
    "print(a.shape)\n",
    "print(a[0], a[1], a[2])\n",
    "a[0] = 5\n",
    "print(a)\n",
    "\n",
    "b = torch.tensor([[1 ,2, 3], [4, 5, 6]])\n",
    "print(b.shape)"
   ]
  },
  {
   "cell_type": "code",
   "execution_count": 3,
   "id": "7881e553-2f24-45cc-9473-e751fe58aea2",
   "metadata": {},
   "outputs": [
    {
     "name": "stdout",
     "output_type": "stream",
     "text": [
      "tensor([[0., 0.],\n",
      "        [0., 0.]])\n",
      "tensor([[0., 0.],\n",
      "        [0., 0.]])\n",
      "tensor([[0., 0.],\n",
      "        [0., 0.]])\n",
      "tensor([[1., 1.]])\n",
      "tensor([[7, 7],\n",
      "        [7, 7]])\n",
      "tensor([[1., 0.],\n",
      "        [0., 1.]])\n",
      "tensor([[ 0.6069,  0.4499],\n",
      "        [-0.1615, -0.6437]])\n"
     ]
    }
   ],
   "source": [
    "a0 = torch.zeros([2, 2])\n",
    "print(a0)\n",
    "a1 = torch.zeros((2,2))\n",
    "print(a1)\n",
    "a2 = torch.zeros(2,2)\n",
    "print(a2)\n",
    "\n",
    "b = torch.ones([1, 2])\n",
    "print(b)\n",
    "\n",
    "c = torch.full([2, 2], 7)\n",
    "print(c)\n",
    "\n",
    "d = torch.eye(2)\n",
    "print(d)\n",
    "\n",
    "e = torch.randn([2, 2])\n",
    "print(e)"
   ]
  },
  {
   "cell_type": "code",
   "execution_count": 4,
   "id": "edf4526f-8007-4a6d-bcd6-b347b45636ba",
   "metadata": {},
   "outputs": [
    {
     "name": "stdout",
     "output_type": "stream",
     "text": [
      "tensor([[1, 2, 3],\n",
      "        [4, 5, 6],\n",
      "        [6, 7, 8]])\n",
      "tensor([[2, 3],\n",
      "        [5, 6]])\n",
      "tensor(2)\n",
      "tensor(77)\n"
     ]
    }
   ],
   "source": [
    "a = torch.tensor([[1, 2, 3], [4, 5, 6], [6, 7, 8]])\n",
    "print(a)\n",
    "\n",
    "b = a[:2, 1:3]\n",
    "print(b)\n",
    "\n",
    "print(a[0, 1])\n",
    "b[0, 0] = 77\n",
    "print(a[0, 1])"
   ]
  },
  {
   "cell_type": "code",
   "execution_count": 5,
   "id": "ced2a89c-f60b-416e-b8c0-e6ed6a86445b",
   "metadata": {},
   "outputs": [
    {
     "name": "stdout",
     "output_type": "stream",
     "text": [
      "tensor([5, 6, 7, 8]) torch.Size([4])\n",
      "tensor([[5, 6, 7, 8]]) torch.Size([1, 4])\n",
      "tensor([ 2,  6, 10]) torch.Size([3])\n",
      "tensor([[ 2],\n",
      "        [ 6],\n",
      "        [10]]) torch.Size([3, 1])\n"
     ]
    }
   ],
   "source": [
    "a = torch.tensor([[1, 2, 3, 4], [5, 6, 7, 8], [9, 10, 11, 12]])\n",
    "row_r1 = a[1, :]\n",
    "row_r2 = a[1:2, :]\n",
    "print(row_r1, row_r1.shape)\n",
    "print(row_r2, row_r2.shape)\n",
    "\n",
    "col_r1 = a[:, 1]\n",
    "col_r2 = a[:, 1:2]\n",
    "print(col_r1, col_r1.shape)\n",
    "print(col_r2, col_r2.shape)"
   ]
  },
  {
   "cell_type": "code",
   "execution_count": 6,
   "id": "61df3de0-d2ca-4de6-bf69-3aa4fb07d174",
   "metadata": {},
   "outputs": [
    {
     "name": "stdout",
     "output_type": "stream",
     "text": [
      "tensor([1, 4, 5])\n",
      "tensor([1, 4, 5])\n",
      "tensor([2, 2])\n",
      "tensor([2, 2])\n"
     ]
    }
   ],
   "source": [
    "a = torch.tensor([[1, 2], [3, 4], [5, 6]])\n",
    "print(a[[0 , 1, 2], [0, 1, 0]])\n",
    "print(torch.tensor([a[0, 0], a[1, 1], a[2,0]]))\n",
    "\n",
    "print(a[[0, 0], [1, 1]])\n",
    "print(torch.tensor([a[0, 1], a[0,1]]))"
   ]
  },
  {
   "cell_type": "code",
   "execution_count": 7,
   "id": "5a627e10-3d6b-4964-9fae-aacb9213e120",
   "metadata": {},
   "outputs": [
    {
     "name": "stdout",
     "output_type": "stream",
     "text": [
      "tensor([[ 1,  2,  3],\n",
      "        [ 4,  5,  6],\n",
      "        [ 7,  8,  9],\n",
      "        [10, 11, 12]])\n",
      "tensor([ 1,  6,  7, 11])\n",
      "tensor([[11,  2,  3],\n",
      "        [ 4,  5, 16],\n",
      "        [17,  8,  9],\n",
      "        [10, 21, 12]])\n"
     ]
    }
   ],
   "source": [
    "a = torch.tensor([[1, 2, 3], [4, 5, 6], [7, 8, 9], [10, 11, 12]])\n",
    "print(a)\n",
    "\n",
    "b = torch.tensor([0, 2, 0, 1])\n",
    "print(a[torch.arange(4), b])\n",
    "\n",
    "a[torch.arange(4), b] += 10\n",
    "print(a)"
   ]
  },
  {
   "cell_type": "code",
   "execution_count": 8,
   "id": "975d31f1-3d1e-48ea-b3b2-7cebd7b63e7b",
   "metadata": {},
   "outputs": [
    {
     "name": "stdout",
     "output_type": "stream",
     "text": [
      "tensor([[False, False],\n",
      "        [ True,  True],\n",
      "        [ True,  True]])\n",
      "tensor([3, 4, 5, 6])\n",
      "tensor([3, 4, 5, 6])\n"
     ]
    }
   ],
   "source": [
    "a = torch.tensor([[1,2], [3, 4], [5, 6]])\n",
    "bool_idx = (a>2)\n",
    "print(bool_idx)\n",
    "print(a[bool_idx])\n",
    "print(a[a>2])"
   ]
  },
  {
   "cell_type": "code",
   "execution_count": 9,
   "id": "db2d9ac9-6fc0-471d-9ae3-3fdb67f99d0c",
   "metadata": {},
   "outputs": [
    {
     "name": "stdout",
     "output_type": "stream",
     "text": [
      "torch.int64\n",
      "torch.float32\n",
      "torch.int64\n"
     ]
    }
   ],
   "source": [
    "x = torch.tensor([1, 2])\n",
    "print(x.dtype)\n",
    "\n",
    "x = torch.tensor([1.0, 2.0])\n",
    "print(x.dtype)\n",
    "\n",
    "x = torch.tensor([1, 2], dtype=torch.int64)\n",
    "print(x.dtype)"
   ]
  },
  {
   "cell_type": "code",
   "execution_count": 10,
   "id": "03536fba-71c8-48d2-b644-043fb16c2535",
   "metadata": {},
   "outputs": [
    {
     "name": "stdout",
     "output_type": "stream",
     "text": [
      "tensor([[ 6.,  8.],\n",
      "        [10., 12.]], dtype=torch.float64)\n",
      "tensor([[ 6.,  8.],\n",
      "        [10., 12.]], dtype=torch.float64)\n",
      "tensor([[-4., -4.],\n",
      "        [-4., -4.]], dtype=torch.float64)\n",
      "tensor([[-4., -4.],\n",
      "        [-4., -4.]], dtype=torch.float64)\n",
      "tensor([[ 5., 12.],\n",
      "        [21., 32.]], dtype=torch.float64)\n",
      "tensor([[ 5., 12.],\n",
      "        [21., 32.]], dtype=torch.float64)\n",
      "tensor([[0.2000, 0.3333],\n",
      "        [0.4286, 0.5000]], dtype=torch.float64)\n",
      "tensor([[0.2000, 0.3333],\n",
      "        [0.4286, 0.5000]], dtype=torch.float64)\n",
      "tensor([[1.0000, 1.4142],\n",
      "        [1.7321, 2.0000]], dtype=torch.float64)\n"
     ]
    }
   ],
   "source": [
    "x = torch.tensor([[1, 2], [3, 4]], dtype=torch.float64)\n",
    "y = torch.tensor([[5, 6], [7, 8]], dtype=torch.float64)\n",
    "\n",
    "print(x+y)\n",
    "print(torch.add(x, y))\n",
    "\n",
    "print(x-y)\n",
    "print(torch.subtract(x,y))\n",
    "\n",
    "print(x*y)\n",
    "print(torch.multiply(x, y))\n",
    "\n",
    "print(x/y)\n",
    "print(torch.divide(x, y))\n",
    "\n",
    "print(torch.sqrt(x))\n"
   ]
  },
  {
   "cell_type": "code",
   "execution_count": 11,
   "id": "61cb2155-0f13-4c63-a783-7c616cdc0fa1",
   "metadata": {},
   "outputs": [
    {
     "name": "stdout",
     "output_type": "stream",
     "text": [
      "tensor(219)\n",
      "tensor(219)\n"
     ]
    },
    {
     "data": {
      "text/plain": [
       "tensor([[19, 22],\n",
       "        [43, 50]])"
      ]
     },
     "execution_count": 11,
     "metadata": {},
     "output_type": "execute_result"
    }
   ],
   "source": [
    "x = torch.tensor([[1, 2], [3, 4]])\n",
    "y = torch.tensor([[5, 6], [7, 8]])\n",
    "v = torch.tensor([9, 10])\n",
    "w = torch.tensor([11, 12])\n",
    "\n",
    "print(v.dot(w))\n",
    "print(torch.dot(v, w))\n",
    "\n",
    "torch.linalg.multi_dot([x, v])\n",
    "torch.linalg.multi_dot([x, y])"
   ]
  },
  {
   "cell_type": "code",
   "execution_count": 12,
   "id": "8c5879a9-52d9-4dab-9fd8-91190d0f0a34",
   "metadata": {},
   "outputs": [
    {
     "name": "stdout",
     "output_type": "stream",
     "text": [
      "tensor(10)\n",
      "tensor([4, 6])\n",
      "tensor([3, 7])\n"
     ]
    }
   ],
   "source": [
    "x = torch.tensor([[1, 2], [3, 4]])\n",
    "\n",
    "print(torch.sum(x))\n",
    "print(torch.sum(x, axis=0))\n",
    "print(torch.sum(x, axis=1))"
   ]
  },
  {
   "cell_type": "code",
   "execution_count": 13,
   "id": "14baff8f-bf5f-45a5-819e-11bd501b2a91",
   "metadata": {},
   "outputs": [
    {
     "name": "stdout",
     "output_type": "stream",
     "text": [
      "tensor([[1, 2],\n",
      "        [3, 4]])\n",
      "tensor([[1, 3],\n",
      "        [2, 4]])\n"
     ]
    }
   ],
   "source": [
    "x = torch.tensor([[1, 2], [3, 4]])\n",
    "print(x)\n",
    "print(torch.transpose(x, 0, 1))\n",
    "\n"
   ]
  },
  {
   "cell_type": "code",
   "execution_count": 15,
   "id": "133cbdfa-4450-4358-ac66-dbc98c60e432",
   "metadata": {},
   "outputs": [
    {
     "name": "stdout",
     "output_type": "stream",
     "text": [
      "tensor([[ 2,  2,  4],\n",
      "        [ 5,  5,  7],\n",
      "        [ 8,  8, 10],\n",
      "        [11, 11, 13]])\n"
     ]
    }
   ],
   "source": [
    "x = torch.tensor([[1, 2, 3], [4, 5, 6], [7, 8, 9], [10, 11, 12]])\n",
    "v = torch.tensor([[1, 0, 1]])\n",
    "y = torch.empty_like(x)\n",
    "\n",
    "for i in range(4):\n",
    "    y[i, :] = x[i, :] + v\n",
    "print(y)"
   ]
  },
  {
   "cell_type": "code",
   "execution_count": 17,
   "id": "641820bd-41c0-4b7b-a39c-f83ea5de4b5e",
   "metadata": {},
   "outputs": [
    {
     "name": "stdout",
     "output_type": "stream",
     "text": [
      "tensor([[1, 0, 1],\n",
      "        [1, 0, 1],\n",
      "        [1, 0, 1],\n",
      "        [1, 0, 1]])\n",
      "tensor([[ 2,  2,  4],\n",
      "        [ 5,  5,  7],\n",
      "        [ 8,  8, 10],\n",
      "        [11, 11, 13]])\n"
     ]
    }
   ],
   "source": [
    "x = torch.tensor([[1, 2, 3], [4, 5, 6], [7, 8, 9], [10, 11, 12]])\n",
    "v = torch.tensor([1, 0, 1])\n",
    "vv = torch.tile(v, [4,1])\n",
    "print(vv)\n",
    "\n",
    "y = x + vv\n",
    "print(y)"
   ]
  },
  {
   "cell_type": "code",
   "execution_count": 18,
   "id": "32cc579b-bbd7-4eaa-9ca3-3cedb2b60a20",
   "metadata": {},
   "outputs": [
    {
     "name": "stdout",
     "output_type": "stream",
     "text": [
      "tensor([[ 2,  2,  4],\n",
      "        [ 5,  5,  7],\n",
      "        [ 8,  8, 10],\n",
      "        [11, 11, 13]])\n"
     ]
    }
   ],
   "source": [
    "x = torch.tensor([[1, 2, 3] ,[4, 5, 6], [7, 8, 9], [10, 11, 12]])\n",
    "v = torch.tensor([1, 0, 1])\n",
    "y = x + v\n",
    "print(y)"
   ]
  },
  {
   "cell_type": "code",
   "execution_count": 23,
   "id": "59fb5373-4a7e-444a-9c59-31f73866fda8",
   "metadata": {},
   "outputs": [
    {
     "name": "stdout",
     "output_type": "stream",
     "text": [
      "tensor([[ 4,  5],\n",
      "        [ 8, 10],\n",
      "        [12, 15]])\n",
      "tensor([[2, 4, 6],\n",
      "        [5, 7, 9]])\n",
      "tensor([[ 5,  6,  7],\n",
      "        [ 9, 10, 11]])\n",
      "tensor([[ 5,  6,  7],\n",
      "        [ 9, 10, 11]])\n",
      "tensor([[ 2,  4,  6],\n",
      "        [ 8, 10, 12]])\n"
     ]
    }
   ],
   "source": [
    "v = torch.tensor([1, 2, 3])\n",
    "w = torch.tensor([4, 5])\n",
    "print(torch.reshape(v, [3, 1]) * w)\n",
    "\n",
    "x = torch.tensor([[1, 2, 3], [4, 5, 6]])\n",
    "print(x + v)\n",
    "\n",
    "print(torch.transpose(torch.transpose(x, 0, 1) + w, 0, 1))\n",
    "\n",
    "print(x + torch.reshape(w, [2, 1]))\n",
    "print(x*2)"
   ]
  },
  {
   "cell_type": "code",
   "execution_count": null,
   "id": "e0c9e751-d645-446e-9305-511a8f16c839",
   "metadata": {},
   "outputs": [],
   "source": []
  }
 ],
 "metadata": {
  "kernelspec": {
   "display_name": "Python 3 (ipykernel)",
   "language": "python",
   "name": "python3"
  },
  "language_info": {
   "codemirror_mode": {
    "name": "ipython",
    "version": 3
   },
   "file_extension": ".py",
   "mimetype": "text/x-python",
   "name": "python",
   "nbconvert_exporter": "python",
   "pygments_lexer": "ipython3",
   "version": "3.10.8"
  }
 },
 "nbformat": 4,
 "nbformat_minor": 5
}
